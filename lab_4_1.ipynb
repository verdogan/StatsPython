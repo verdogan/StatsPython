{
 "cells": [
  {
   "cell_type": "markdown",
   "metadata": {
    "colab_type": "text",
    "id": "OTpnyUEJrAjE"
   },
   "source": [
    "# APS1070\n",
    "#### Linear Regression - Project 4"
   ]
  },
  {
   "cell_type": "markdown",
   "metadata": {
    "colab_type": "text",
    "id": "fUdJ6xw3rJIG"
   },
   "source": [
    "Please fill out the following:\n",
    "\n",
    "\n",
    "*   Your **name**:\n",
    "*   Your **student number**:\n",
    "\n"
   ]
  },
  {
   "cell_type": "markdown",
   "metadata": {
    "colab_type": "text",
    "id": "oLFrnQo9wA4H"
   },
   "source": [
    "## How to use this Notebook"
   ]
  },
  {
   "cell_type": "markdown",
   "metadata": {
    "colab_type": "text",
    "id": "Ryuq8mw8wA4J"
   },
   "source": [
    "1. Run the cells to get a bird's eye view of whats going on.\n",
    "2. Interact with the code to better understand how it works - add cells, plot values, change parameters, etc.\n",
    "3. (Optional) Replicate Linear Regression code on a blank notebook, without viewing this code. [This is called retrieval practice.](https://www.learningscientists.org/blog/2016/6/23-1)\n",
    "4. Complete exercises."
   ]
  },
  {
   "cell_type": "markdown",
   "metadata": {
    "colab_type": "text",
    "id": "Jn-UWaxnwA4K"
   },
   "source": [
    "## Linear Regression - Introduction"
   ]
  },
  {
   "cell_type": "markdown",
   "metadata": {
    "colab_type": "text",
    "id": "kS-L6yG_wA4L"
   },
   "source": [
    "### Linear Regression"
   ]
  },
  {
   "cell_type": "markdown",
   "metadata": {
    "colab_type": "text",
    "id": "2mFMzlbcbcs0"
   },
   "source": [
    "In statistics, linear regression is a linear approach to modelling the relationship between a dependent variable and one or more independent variables. Let X be the independent variable and Y be the dependent variable. We will define a linear relationship between these two variables as follows:"
   ]
  },
  {
   "cell_type": "markdown",
   "metadata": {
    "colab_type": "text",
    "id": "R3JNdY_Cbcs0"
   },
   "source": [
    "$y = mX + c$"
   ]
  },
  {
   "cell_type": "markdown",
   "metadata": {
    "colab_type": "text",
    "id": "6YAZTV1Mbcs1"
   },
   "source": [
    "This is the equation for a line that you studied in high school. m is the slope of the line and c is the y intercept. Today we will use this equation to train our model with a given dataset and predict the value of Y for any given value of X. Our challenge today is to determine the value of m and c, such that the line corresponding to those values is the best fitting line or gives the minimum error."
   ]
  },
  {
   "cell_type": "markdown",
   "metadata": {
    "colab_type": "text",
    "id": "9ENvOgIIbcs1"
   },
   "source": [
    "Are we always fitting a line into the data? What if we have more than 1 feature (independant variable)?"
   ]
  },
  {
   "cell_type": "markdown",
   "metadata": {
    "colab_type": "text",
    "id": "_lhIIg3Pbcs2"
   },
   "source": [
    "The vectorized form of above equation is written as $y = Xw$, where y and w are vectors while X is a matrix. \n",
    "\n",
    "Where is the c term? It is included within the X matrix."
   ]
  },
  {
   "cell_type": "markdown",
   "metadata": {
    "colab_type": "text",
    "id": "qyYxxkfAbcs2"
   },
   "source": [
    "**Hypothesis of Linear Regression**"
   ]
  },
  {
   "cell_type": "markdown",
   "metadata": {
    "colab_type": "text",
    "id": "KUz5wFvUbcs3"
   },
   "source": [
    "The linear regression model can be represented by the following equation:"
   ]
  },
  {
   "cell_type": "markdown",
   "metadata": {
    "colab_type": "text",
    "id": "M6E-PKb_bcs3"
   },
   "source": [
    "<img src=\"https://miro.medium.com/max/313/1*A32yDrkQKIU0Z-Nf7JD9Pg.png\">"
   ]
  },
  {
   "cell_type": "markdown",
   "metadata": {
    "colab_type": "text",
    "id": "q_aOnL22bcs4"
   },
   "source": [
    "- Y is the predicted value ($h_\\theta(x)$)\n",
    "- θ₀ is the bias term.\n",
    "- θ₁,…,θₙ are the model parameters\n",
    "- x₁, x₂,…,xₙ are the feature values."
   ]
  },
  {
   "cell_type": "markdown",
   "metadata": {
    "colab_type": "text",
    "id": "bD4i39QVwA4O"
   },
   "source": [
    "### LR - Procedure"
   ]
  },
  {
   "cell_type": "markdown",
   "metadata": {
    "colab_type": "text",
    "id": "y6AiJnqnbcs5"
   },
   "source": [
    "Our Loss function for Linear regression would be sum of squares, which makes the cost function to be:"
   ]
  },
  {
   "cell_type": "markdown",
   "metadata": {
    "colab_type": "text",
    "id": "RUIa2Og3bcs5"
   },
   "source": [
    "<img src=\"https://miro.medium.com/max/300/1*_y5QA1yF4w6LDDRxfTt6GA.jpeg\">"
   ]
  },
  {
   "cell_type": "markdown",
   "metadata": {
    "colab_type": "text",
    "id": "53bIKpy5bcs6"
   },
   "source": [
    "Here yᵢ is the actual value and ȳᵢ is the predicted value. Lets substitute the value of ȳᵢ from $y = mX + c$:"
   ]
  },
  {
   "cell_type": "markdown",
   "metadata": {
    "colab_type": "text",
    "id": "Vgfn6x2Ubcs6"
   },
   "source": [
    "<img src=\"https://miro.medium.com/max/400/1*3cpC7oHy4IbH3o3Jc-ygVw.jpeg\">"
   ]
  },
  {
   "cell_type": "markdown",
   "metadata": {
    "colab_type": "text",
    "id": "w5GC9wklbcs7"
   },
   "source": [
    "Partial Derivative of the above equation with respect to m is shown as $D_m$:"
   ]
  },
  {
   "cell_type": "markdown",
   "metadata": {
    "colab_type": "text",
    "id": "MXzmtoFzbcs7"
   },
   "source": [
    "<img src=\"https://miro.medium.com/max/400/1*FvYfCBrl2gX9K-KxSO1eIw.jpeg\">"
   ]
  },
  {
   "cell_type": "markdown",
   "metadata": {
    "colab_type": "text",
    "id": "T4bzLgyXbcs7"
   },
   "source": [
    "While the Partial Derivative with respect to c is shown as $D_c$:"
   ]
  },
  {
   "cell_type": "markdown",
   "metadata": {
    "colab_type": "text",
    "id": "8YT6zO2-bcs8"
   },
   "source": [
    "<img src=\"https://miro.medium.com/max/300/1*rj09w2TcBxnHPtQ0oq4ehA.jpeg\">"
   ]
  },
  {
   "cell_type": "markdown",
   "metadata": {
    "colab_type": "text",
    "id": "FNAgpf18wA4S"
   },
   "source": [
    "#### Analytical Approach for Linear Regression\n",
    "\n",
    "Can you derive the Analytical Solution for Linear Regression?"
   ]
  },
  {
   "cell_type": "markdown",
   "metadata": {
    "colab_type": "text",
    "id": "9-vd5YWLbcs-"
   },
   "source": [
    "We arrive at the analytical solution when we turn the partial derivatives with respect to the parameters to zero. Why?\n",
    "\n",
    "This is because at the point where cost function is at the minimum with respect to the parameters (m and c), the derivative of cost function with respect to the parameters would be zero."
   ]
  },
  {
   "cell_type": "markdown",
   "metadata": {
    "colab_type": "text",
    "id": "kJBZTGZHbcs-"
   },
   "source": [
    "$D_m=0$ and $D_c=0$"
   ]
  },
  {
   "cell_type": "markdown",
   "metadata": {
    "colab_type": "text",
    "id": "o_qnAm8tbcs_"
   },
   "source": [
    "The solution for the general case comes out to be:"
   ]
  },
  {
   "cell_type": "markdown",
   "metadata": {
    "colab_type": "text",
    "id": "91CsuqsUbcs_"
   },
   "source": [
    "<img src=\"https://sebastianraschka.com/images/faq/closed-form-vs-gd/closed-form.png\">"
   ]
  },
  {
   "cell_type": "markdown",
   "metadata": {
    "colab_type": "text",
    "id": "nuHJAOmvbctA"
   },
   "source": [
    "With $L_2$ Regularization. Cost:"
   ]
  },
  {
   "cell_type": "markdown",
   "metadata": {
    "colab_type": "text",
    "id": "eCDCGqdbbctB"
   },
   "source": [
    "$J(\\theta) = \\frac{1}{2m}[\\sum_{i=1}^m(h_\\theta (x^{(i)}) - y^{(i)})^2 + \\lambda\\sum_{j=1}^n\\theta^2_j]$"
   ]
  },
  {
   "cell_type": "markdown",
   "metadata": {
    "colab_type": "text",
    "id": "w484FOiDbctC"
   },
   "source": [
    "$w = (X^TX + \\lambda I)^{-1}X^Ty$"
   ]
  },
  {
   "cell_type": "markdown",
   "metadata": {
    "colab_type": "text",
    "heading_collapsed": true,
    "id": "iQyQ3hA6bctC"
   },
   "source": [
    "#### Gradient Descent Solution"
   ]
  },
  {
   "cell_type": "markdown",
   "metadata": {
    "colab_type": "text",
    "hidden": true,
    "id": "4nPHi1eSbctC"
   },
   "source": [
    "Gradient descent uses the equations for gradient derived above to find the direction in which we tinker the values of our parameters m and c. "
   ]
  },
  {
   "cell_type": "markdown",
   "metadata": {
    "colab_type": "text",
    "hidden": true,
    "id": "y8RY7oFgbctD"
   },
   "source": [
    "<img src=\"https://miro.medium.com/max/300/1*JDcHqFK8jLcgQu1cj2XuVQ.jpeg\">"
   ]
  },
  {
   "cell_type": "markdown",
   "metadata": {
    "colab_type": "text",
    "hidden": true,
    "id": "TmX3-0DYbctD"
   },
   "source": [
    "Here the term $L$ is defined as the learning rate."
   ]
  },
  {
   "cell_type": "markdown",
   "metadata": {
    "colab_type": "text",
    "hidden": true,
    "id": "HW9l1_RBbctE"
   },
   "source": [
    "<img src=\"https://miro.medium.com/max/864/1*CjTBNFUEI_IokEOXJ00zKw.gif\">"
   ]
  },
  {
   "cell_type": "markdown",
   "metadata": {
    "colab_type": "text",
    "id": "K0JkLAQWbctE"
   },
   "source": [
    "#### Any other solutions methods?"
   ]
  },
  {
   "cell_type": "markdown",
   "metadata": {
    "colab_type": "text",
    "id": "9A_OEn8VbctE"
   },
   "source": [
    "Some other solution methods are QR Decomposition, Singular-Value Decomposition.\n",
    "\n",
    "- Do these methods give exact solutions?\n",
    "- Do these methods scale well with large datasets?"
   ]
  },
  {
   "cell_type": "markdown",
   "metadata": {
    "colab_type": "text",
    "id": "sxvjbQZibctF"
   },
   "source": [
    "## Let's Start"
   ]
  },
  {
   "cell_type": "markdown",
   "metadata": {
    "colab_type": "text",
    "id": "LEzWkTisbctF"
   },
   "source": [
    "Single Feature, 5 data points."
   ]
  },
  {
   "cell_type": "markdown",
   "metadata": {
    "colab_type": "text",
    "id": "VPNKfSh1bctG"
   },
   "source": [
    "### Analytical Approach in Code\n",
    "\n",
    "Let's get our hands dirty."
   ]
  },
  {
   "cell_type": "code",
   "execution_count": 0,
   "metadata": {
    "colab": {},
    "colab_type": "code",
    "id": "_pUP_nOYbctG"
   },
   "outputs": [],
   "source": [
    "import numpy as np\n",
    "import pandas as pd\n",
    "import matplotlib.pyplot as plt\n",
    "import seaborn as sns\n",
    "from sklearn.linear_model import LinearRegression\n",
    "from sklearn.linear_model import Ridge\n",
    "from sklearn.preprocessing import PolynomialFeatures\n",
    "from sklearn.metrics import mean_squared_error"
   ]
  },
  {
   "cell_type": "code",
   "execution_count": 0,
   "metadata": {
    "colab": {},
    "colab_type": "code",
    "id": "g2s-ZTXtbctI"
   },
   "outputs": [],
   "source": [
    "n = 5 # number of points\n",
    "m = 2 # slope of line\n",
    "c = 4 # y intercept of line\n",
    "r = 2 # range of data on x-axis\n",
    "\n",
    "np.random.seed(2)\n",
    "x = r * np.random.rand(n)\n",
    "x.sort()\n",
    "yPerf = m*x + c # perfect world: no noise\n",
    "y = m*x + c + np.random.randn(n) # imperfect world: we get noisy data"
   ]
  },
  {
   "cell_type": "markdown",
   "metadata": {
    "colab_type": "text",
    "id": "RlW5IUn5bctJ"
   },
   "source": [
    "Spoiler Alert: We are in an Imperfect World."
   ]
  },
  {
   "cell_type": "code",
   "execution_count": 0,
   "metadata": {
    "colab": {},
    "colab_type": "code",
    "id": "lNe4w9CdbctJ"
   },
   "outputs": [],
   "source": [
    "def rmse(yPred, y):\n",
    "    return np.sqrt(mean_squared_error(yPred, y))"
   ]
  },
  {
   "cell_type": "code",
   "execution_count": 4,
   "metadata": {
    "colab": {
     "base_uri": "https://localhost:8080/",
     "height": 265
    },
    "colab_type": "code",
    "id": "YmkB-_lpbctL",
    "outputId": "6818d8e8-f88a-43e4-c9f1-b6dc38b7027f"
   },
   "outputs": [
    {
     "data": {
      "image/png": "[encoded data removed]",
      "text/plain": [
       "<Figure size 432x288 with 1 Axes>"
      ]
     },
     "metadata": {
      "tags": []
     },
     "output_type": "display_data"
    }
   ],
   "source": [
    "plt.plot(x, y, 'o', label='Data')\n",
    "plt.plot(x, yPerf, 'o-', label='Underlying Distribution')\n",
    "\n",
    "plt.legend()\n",
    "plt.show()"
   ]
  },
  {
   "cell_type": "code",
   "execution_count": 0,
   "metadata": {
    "colab": {},
    "colab_type": "code",
    "id": "xL7-QF9TbctN"
   },
   "outputs": [],
   "source": [
    "x = np.vstack((np.ones(np.shape(x)), x)).T\n",
    "y = y.reshape(-1, 1)"
   ]
  },
  {
   "cell_type": "code",
   "execution_count": 0,
   "metadata": {
    "colab": {},
    "colab_type": "code",
    "id": "70gnrF0XbctO"
   },
   "outputs": [],
   "source": [
    "# analytical solution\n",
    "w = np.dot(np.linalg.inv(np.dot(x.T, x)), np.dot(x.T, y))\n",
    "\n",
    "# prediction\n",
    "yPred = np.dot(x, w)"
   ]
  },
  {
   "cell_type": "code",
   "execution_count": 7,
   "metadata": {
    "colab": {
     "base_uri": "https://localhost:8080/",
     "height": 34
    },
    "colab_type": "code",
    "id": "msWFfyD-bctQ",
    "outputId": "eb78e7cc-a215-44fa-e2c7-13a4fd757092"
   },
   "outputs": [
    {
     "data": {
      "text/plain": [
       "(array([2.67741212]), array([3.35314632]))"
      ]
     },
     "execution_count": 7,
     "metadata": {
      "tags": []
     },
     "output_type": "execute_result"
    }
   ],
   "source": [
    "w[0], w[1]"
   ]
  },
  {
   "cell_type": "markdown",
   "metadata": {
    "colab_type": "text",
    "id": "vlvll92zbctS"
   },
   "source": [
    "- How similar are these to the values we had set initially?\n",
    "- Will they be same as those set initially if there was no noise?"
   ]
  },
  {
   "cell_type": "code",
   "execution_count": 8,
   "metadata": {
    "colab": {
     "base_uri": "https://localhost:8080/",
     "height": 265
    },
    "colab_type": "code",
    "id": "NyxfDFgfbctS",
    "outputId": "1743a74c-0ed8-4e30-e05d-a72b39ce8239"
   },
   "outputs": [
    {
     "data": {
      "image/png": "[encoded data removed]",
      "text/plain": [
       "<Figure size 432x288 with 1 Axes>"
      ]
     },
     "metadata": {
      "tags": []
     },
     "output_type": "display_data"
    }
   ],
   "source": [
    "plt.plot(x[:, 1], y, 'o', label='Data')\n",
    "plt.plot(x[:, 1], yPerf, 'o-', label='Underlying Distribution')\n",
    "plt.plot(x[:, 1], yPred, 'o-', label='Predicted')\n",
    "\n",
    "plt.legend()\n",
    "plt.show()"
   ]
  },
  {
   "cell_type": "code",
   "execution_count": 9,
   "metadata": {
    "colab": {
     "base_uri": "https://localhost:8080/",
     "height": 34
    },
    "colab_type": "code",
    "id": "2l5yQVtFbctU",
    "outputId": "cc5b3da1-4847-4e9e-fda2-d80e6308b9c1"
   },
   "outputs": [
    {
     "name": "stdout",
     "output_type": "stream",
     "text": [
      "RMSE:  0.8321853483360432\n"
     ]
    }
   ],
   "source": [
    "print('RMSE: ', rmse(yPred, y))"
   ]
  },
  {
   "cell_type": "markdown",
   "metadata": {
    "colab_type": "text",
    "id": "o3ZG5e0YbctW"
   },
   "source": [
    "### Complex Dependant Variable\n",
    "\n",
    "It's complicated."
   ]
  },
  {
   "cell_type": "code",
   "execution_count": 0,
   "metadata": {
    "colab": {},
    "colab_type": "code",
    "id": "T9eFKueSbctX"
   },
   "outputs": [],
   "source": [
    "n = 20 # number of points\n",
    "m = 3  # slope of line\n",
    "c = 10 # y intercept of line\n",
    "r = 2  # range of data on x-axis\n",
    "\n",
    "np.random.seed(10)\n",
    "X = xD = r * np.random.randn(n) # points also stored in xD (xData). will be useful later.\n",
    "X.sort()\n",
    "yPerf = X - 2 * (X ** 2) + 0.5 * (X ** 3)\n",
    "np.random.seed(10)\n",
    "y = X - 2 * (X ** 2) + 0.5 * (X ** 3) + np.random.normal(0, 5, n) # imperfect world: we get noisy data"
   ]
  },
  {
   "cell_type": "code",
   "execution_count": 11,
   "metadata": {
    "colab": {
     "base_uri": "https://localhost:8080/",
     "height": 265
    },
    "colab_type": "code",
    "id": "OFpKR94YbctY",
    "outputId": "59b86ebe-990e-4979-9235-7e566b75acb7"
   },
   "outputs": [
    {
     "data": {
      "image/png": "[encoded data removed]",
      "text/plain": [
       "<Figure size 432x288 with 1 Axes>"
      ]
     },
     "metadata": {
      "tags": []
     },
     "output_type": "display_data"
    }
   ],
   "source": [
    "plt.plot(X, y, 'o', label='Data')\n",
    "plt.plot(X, yPerf, 'o-', label='Underlying Distribution')\n",
    "\n",
    "plt.legend()\n",
    "plt.show()"
   ]
  },
  {
   "cell_type": "code",
   "execution_count": 0,
   "metadata": {
    "colab": {},
    "colab_type": "code",
    "id": "ka-pV7fGbctZ"
   },
   "outputs": [],
   "source": [
    "X = np.vstack((np.ones(np.shape(X)), X)).T\n",
    "y = y.reshape(-1, 1)"
   ]
  },
  {
   "cell_type": "code",
   "execution_count": 13,
   "metadata": {
    "colab": {
     "base_uri": "https://localhost:8080/",
     "height": 51
    },
    "colab_type": "code",
    "id": "GZy6EK4Mbctb",
    "outputId": "94de0b73-3fa4-41db-9202-85045bcd4d95"
   },
   "outputs": [
    {
     "data": {
      "text/plain": [
       "array([[-5.45917353],\n",
       "       [ 3.82202654]])"
      ]
     },
     "execution_count": 13,
     "metadata": {
      "tags": []
     },
     "output_type": "execute_result"
    }
   ],
   "source": [
    "# analytical solution\n",
    "w = np.dot(np.linalg.inv(np.dot(X.T, X)), np.dot(X.T, y))\n",
    "\n",
    "# prediction\n",
    "yPredLinear = yPred = np.dot(X, w)\n",
    "\n",
    "w"
   ]
  },
  {
   "cell_type": "code",
   "execution_count": 14,
   "metadata": {
    "colab": {
     "base_uri": "https://localhost:8080/",
     "height": 265
    },
    "colab_type": "code",
    "id": "NS_2S74qbctc",
    "outputId": "8d578023-228a-4e6d-bada-faa5a8781561"
   },
   "outputs": [
    {
     "data": {
      "image/png": "[encoded data removed]",
      "text/plain": [
       "<Figure size 432x288 with 1 Axes>"
      ]
     },
     "metadata": {
      "tags": []
     },
     "output_type": "display_data"
    }
   ],
   "source": [
    "plt.plot(xD, y, 'o', label='Data')\n",
    "plt.plot(xD, yPerf, 'o-', label='Underlying Distribution')\n",
    "plt.plot(xD, yPred, 'o-', label='Predicted')\n",
    "\n",
    "plt.legend()\n",
    "plt.show()"
   ]
  },
  {
   "cell_type": "code",
   "execution_count": 15,
   "metadata": {
    "colab": {
     "base_uri": "https://localhost:8080/",
     "height": 34
    },
    "colab_type": "code",
    "id": "NkKlZkKkbctd",
    "outputId": "9c6b91b3-71d2-4a1b-e178-a60162c6da05"
   },
   "outputs": [
    {
     "name": "stdout",
     "output_type": "stream",
     "text": [
      "RMSE:  6.839531223681816\n"
     ]
    }
   ],
   "source": [
    "print('RMSE: ', rmse(yPred, y))"
   ]
  },
  {
   "cell_type": "markdown",
   "metadata": {
    "colab_type": "text",
    "id": "S6zNdggSbctf"
   },
   "source": [
    "#### What to do next?\n",
    "\n",
    "Can we add more features."
   ]
  },
  {
   "cell_type": "code",
   "execution_count": 0,
   "metadata": {
    "colab": {},
    "colab_type": "code",
    "id": "zIDKcjBKbctf"
   },
   "outputs": [],
   "source": [
    "X = np.vstack((X.T, xD**2, xD**3)).T"
   ]
  },
  {
   "cell_type": "code",
   "execution_count": 0,
   "metadata": {
    "colab": {},
    "colab_type": "code",
    "id": "XlhuePv2bcth"
   },
   "outputs": [],
   "source": [
    "# analytical solution\n",
    "w = np.dot(np.linalg.inv(np.dot(X.T, X)), np.dot(X.T, y))\n",
    "\n",
    "# prediction\n",
    "yPred4Feature = yPred = np.dot(X, w)"
   ]
  },
  {
   "cell_type": "code",
   "execution_count": 18,
   "metadata": {
    "colab": {
     "base_uri": "https://localhost:8080/",
     "height": 86
    },
    "colab_type": "code",
    "id": "jk90FPCXbcti",
    "outputId": "824db431-6b50-42bb-87c5-96349d2bdd53"
   },
   "outputs": [
    {
     "data": {
      "text/plain": [
       "array([[ 0.04177438],\n",
       "       [ 2.58652514],\n",
       "       [-1.87142105],\n",
       "       [ 0.19655185]])"
      ]
     },
     "execution_count": 18,
     "metadata": {
      "tags": []
     },
     "output_type": "execute_result"
    }
   ],
   "source": [
    "w"
   ]
  },
  {
   "cell_type": "code",
   "execution_count": 19,
   "metadata": {
    "colab": {
     "base_uri": "https://localhost:8080/",
     "height": 265
    },
    "colab_type": "code",
    "id": "As3fF2SMbctj",
    "outputId": "f9cc6f25-691b-4f56-d1a2-9368f11527e7"
   },
   "outputs": [
    {
     "data": {
      "image/png": "[encoded data removed]",
      "text/plain": [
       "<Figure size 432x288 with 1 Axes>"
      ]
     },
     "metadata": {
      "tags": []
     },
     "output_type": "display_data"
    }
   ],
   "source": [
    "plt.plot(xD, y, 'o', label='Data')\n",
    "plt.plot(xD, yPerf, 'o-', label='Underlying Distribution')\n",
    "plt.plot(xD, yPred, 'o-', label='Predicted')\n",
    "\n",
    "plt.legend()\n",
    "plt.show()"
   ]
  },
  {
   "cell_type": "code",
   "execution_count": 20,
   "metadata": {
    "colab": {
     "base_uri": "https://localhost:8080/",
     "height": 34
    },
    "colab_type": "code",
    "id": "q4w21j3Wbctl",
    "outputId": "024a1c60-c88f-41f8-b240-acf3428be309"
   },
   "outputs": [
    {
     "name": "stdout",
     "output_type": "stream",
     "text": [
      "RMSE:  3.929493007090521\n"
     ]
    }
   ],
   "source": [
    "print('RMSE: ', rmse(yPred, y))"
   ]
  },
  {
   "cell_type": "markdown",
   "metadata": {
    "colab_type": "text",
    "id": "6UVOla-Obctm"
   },
   "source": [
    "But how do we know when to stop, since we would not be knowing when to stop adding features in x."
   ]
  },
  {
   "cell_type": "code",
   "execution_count": 0,
   "metadata": {
    "colab": {},
    "colab_type": "code",
    "id": "a1dphgtbbctm"
   },
   "outputs": [],
   "source": [
    "X = np.vstack((X.T, xD**4, xD**5, xD**6, xD**7)).T"
   ]
  },
  {
   "cell_type": "code",
   "execution_count": 0,
   "metadata": {
    "colab": {},
    "colab_type": "code",
    "id": "_9_6iGtVbcto"
   },
   "outputs": [],
   "source": [
    "# analytical solution\n",
    "w = np.dot(np.linalg.inv(np.dot(X.T, X)), np.dot(X.T, y))\n",
    "\n",
    "# prediction\n",
    "yPred8Feature = yPred = np.dot(X, w)"
   ]
  },
  {
   "cell_type": "code",
   "execution_count": 23,
   "metadata": {
    "colab": {
     "base_uri": "https://localhost:8080/",
     "height": 154
    },
    "colab_type": "code",
    "id": "hz8q4G9Vbctp",
    "outputId": "ba41f683-1534-4a49-c886-845b452b5e2a"
   },
   "outputs": [
    {
     "data": {
      "text/plain": [
       "array([[-2.64611130e-01],\n",
       "       [ 8.28612458e+00],\n",
       "       [-2.07703327e+00],\n",
       "       [-6.35661778e+00],\n",
       "       [-1.30720676e-02],\n",
       "       [ 1.64293567e+00],\n",
       "       [-2.08380043e-03],\n",
       "       [-1.09229711e-01]])"
      ]
     },
     "execution_count": 23,
     "metadata": {
      "tags": []
     },
     "output_type": "execute_result"
    }
   ],
   "source": [
    "w"
   ]
  },
  {
   "cell_type": "code",
   "execution_count": 24,
   "metadata": {
    "colab": {
     "base_uri": "https://localhost:8080/",
     "height": 265
    },
    "colab_type": "code",
    "id": "9wVphfLKbctq",
    "outputId": "8d1af52e-b7fd-48df-c643-197b128662e6"
   },
   "outputs": [
    {
     "data": {
      "image/png": "[encoded data removed]",
      "text/plain": [
       "<Figure size 432x288 with 1 Axes>"
      ]
     },
     "metadata": {
      "tags": []
     },
     "output_type": "display_data"
    }
   ],
   "source": [
    "plt.plot(xD, y, 'o', label='Data')\n",
    "plt.plot(xD, yPerf, 'o-', label='Underlying Distribution')\n",
    "plt.plot(xD, yPred, 'o-', label='Predicted')\n",
    "\n",
    "plt.legend()\n",
    "plt.show()"
   ]
  },
  {
   "cell_type": "code",
   "execution_count": 25,
   "metadata": {
    "colab": {
     "base_uri": "https://localhost:8080/",
     "height": 34
    },
    "colab_type": "code",
    "id": "sB5FgxqCbcts",
    "outputId": "2acc7d04-674c-411b-b544-02863fb33c0f"
   },
   "outputs": [
    {
     "name": "stdout",
     "output_type": "stream",
     "text": [
      "RMSE:  3.3097843019929725\n"
     ]
    }
   ],
   "source": [
    "print('RMSE: ', rmse(yPred, y))"
   ]
  },
  {
   "cell_type": "markdown",
   "metadata": {
    "colab_type": "text",
    "id": "bjUKcac3bctt"
   },
   "source": [
    "Even though RMSE here (with much more higher features) is lower than previous case, we can see this Predicted Line is quite far from the Underlying distribution. This is called **Overfitting**."
   ]
  },
  {
   "cell_type": "markdown",
   "metadata": {
    "colab_type": "text",
    "id": "mbgmXOxdbctu"
   },
   "source": [
    "When does the model overfits: when we have more features or comparitively less data for the model.\n",
    "\n",
    "What exactly is overfitting:\n",
    "It pays more attention to the noise of the data provided, in a sense trying to rotely memorize everything, \n",
    "without generalizing. \n",
    "\n",
    "Since we don't know when to stop adding features, what can be done:\n",
    "- Solution is to work with a model or feature set that can slightly overfit your data, and then use techniques to prevent overfitting from happening.\n",
    "The alternative gives us underfitting which we cannot fix unless you modify the feature set or model.\n",
    "\n",
    "Options we have to prevent overfitting. Well there are many, most widely used ones are\n",
    "- Using a validation set\n",
    "- Regularization: add penalty on weights"
   ]
  },
  {
   "cell_type": "code",
   "execution_count": 0,
   "metadata": {
    "colab": {},
    "colab_type": "code",
    "id": "XZxmLfzjbctu"
   },
   "outputs": [],
   "source": [
    "λ = 10 # what is lambda: regularization parameter\n",
    "f = 8 # number of features"
   ]
  },
  {
   "cell_type": "code",
   "execution_count": 27,
   "metadata": {
    "colab": {
     "base_uri": "https://localhost:8080/",
     "height": 154
    },
    "colab_type": "code",
    "id": "EWvLnUOTbctw",
    "outputId": "28225896-a9d0-4b41-e454-c14de9226e73"
   },
   "outputs": [
    {
     "data": {
      "text/plain": [
       "array([[ 0.21326186],\n",
       "       [ 0.40727946],\n",
       "       [-0.46745243],\n",
       "       [-0.31891582],\n",
       "       [-0.51080301],\n",
       "       [ 0.38864889],\n",
       "       [ 0.03613141],\n",
       "       [-0.03367748]])"
      ]
     },
     "execution_count": 27,
     "metadata": {
      "tags": []
     },
     "output_type": "execute_result"
    }
   ],
   "source": [
    "# analytical solution\n",
    "w = np.dot(np.linalg.inv(np.dot(X.T, X) + (λ)*np.identity(f)), np.dot(X.T, y))\n",
    "\n",
    "# prediction\n",
    "yPred8FeatRegu = yPred = np.dot(X, w)\n",
    "w"
   ]
  },
  {
   "cell_type": "code",
   "execution_count": 28,
   "metadata": {
    "colab": {
     "base_uri": "https://localhost:8080/",
     "height": 265
    },
    "colab_type": "code",
    "id": "CQiyDIi_bctx",
    "outputId": "c0978985-5b46-4051-c7df-45a01b7f9994"
   },
   "outputs": [
    {
     "data": {
      "image/png": "[encoded data removed]",
      "text/plain": [
       "<Figure size 432x288 with 1 Axes>"
      ]
     },
     "metadata": {
      "tags": []
     },
     "output_type": "display_data"
    }
   ],
   "source": [
    "plt.plot(xD, y, 'o', label='Data')\n",
    "plt.plot(xD, yPerf, 'o-', label='Underlying Distribution')\n",
    "plt.plot(xD, yPred, 'o-', label='Predicted')\n",
    "\n",
    "plt.legend()\n",
    "plt.show()"
   ]
  },
  {
   "cell_type": "markdown",
   "metadata": {
    "colab_type": "text",
    "id": "gw4mgsnbbct0"
   },
   "source": [
    "Can we know from the plot if the value of λ is optimal:\n",
    "\n",
    "Somewhat but not exactly. \n",
    "\n",
    "To get the exact value of lambda you need to split dataset between training and testing. Then cycle over multiple values of lambda. The most optimum is the one which gives the lowest test error. \n",
    "\n",
    "What does low test error represent?"
   ]
  },
  {
   "cell_type": "markdown",
   "metadata": {
    "colab_type": "text",
    "id": "mcSDizyQbct0"
   },
   "source": [
    "All models together:"
   ]
  },
  {
   "cell_type": "code",
   "execution_count": 29,
   "metadata": {
    "colab": {
     "base_uri": "https://localhost:8080/",
     "height": 483
    },
    "colab_type": "code",
    "id": "jCYdZCQRbct1",
    "outputId": "99c40c9a-8a7b-43cd-e67e-a1217069f137"
   },
   "outputs": [
    {
     "data": {
      "image/png": "[encoded data removed]",
      "text/plain": [
       "<Figure size 864x576 with 1 Axes>"
      ]
     },
     "metadata": {
      "tags": []
     },
     "output_type": "display_data"
    }
   ],
   "source": [
    "plt.figure(figsize=(12, 8))\n",
    "plt.plot(xD, y, 'o', label='Data')\n",
    "plt.plot(xD, yPerf, 'o-', label='Underlying Distribution')\n",
    "plt.plot(xD, yPredLinear, 'o-', label='2 Feature')\n",
    "plt.plot(xD, yPred4Feature, 'o-', label='4 Feature')\n",
    "plt.plot(xD, yPred8Feature, 'o-', label='8 Feature')\n",
    "plt.plot(xD, yPred8FeatRegu, 'o-', label='8 Feature Regularized')\n",
    "\n",
    "plt.legend()\n",
    "plt.show()"
   ]
  },
  {
   "cell_type": "markdown",
   "metadata": {
    "colab_type": "text",
    "id": "oVKTzp4Hbct2"
   },
   "source": [
    "### Further Complex Multivariate Data"
   ]
  },
  {
   "cell_type": "markdown",
   "metadata": {
    "colab_type": "text",
    "id": "Y62qieYVbct2"
   },
   "source": [
    "We will take the Housing dataset which contains information about different houses in Boston. This data was originally a part of UCI Machine Learning Repository and has been removed now. We can also access this data from the scikit-learn library. There are 506 samples and 13 feature variables in this dataset. The objective is to predict the value of prices of the house using the given features."
   ]
  },
  {
   "cell_type": "code",
   "execution_count": 0,
   "metadata": {
    "colab": {},
    "colab_type": "code",
    "id": "wVI7N2nWbct3"
   },
   "outputs": [],
   "source": [
    "from sklearn.datasets import load_boston\n",
    "dataset = load_boston()"
   ]
  },
  {
   "cell_type": "code",
   "execution_count": 31,
   "metadata": {
    "colab": {
     "base_uri": "https://localhost:8080/",
     "height": 34
    },
    "colab_type": "code",
    "id": "w_DihUt2bct4",
    "outputId": "f55530a1-5d00-4926-c249-7cb07a21b13d"
   },
   "outputs": [
    {
     "name": "stdout",
     "output_type": "stream",
     "text": [
      "dict_keys(['data', 'target', 'feature_names', 'DESCR', 'filename'])\n"
     ]
    }
   ],
   "source": [
    "print(dataset.keys())"
   ]
  },
  {
   "cell_type": "code",
   "execution_count": 32,
   "metadata": {
    "colab": {
     "base_uri": "https://localhost:8080/",
     "height": 911
    },
    "colab_type": "code",
    "id": "oIstAmPEbct5",
    "outputId": "bedb6b97-da32-4b8d-e476-344a3210ffb7"
   },
   "outputs": [
    {
     "name": "stdout",
     "output_type": "stream",
     "text": [
      ".. _boston_dataset:\n",
      "\n",
      "Boston house prices dataset\n",
      "---------------------------\n",
      "\n",
      "**Data Set Characteristics:**  \n",
      "\n",
      "    :Number of Instances: 506 \n",
      "\n",
      "    :Number of Attributes: 13 numeric/categorical predictive. Median Value (attribute 14) is usually the target.\n",
      "\n",
      "    :Attribute Information (in order):\n",
      "        - CRIM     per capita crime rate by town\n",
      "        - ZN       proportion of residential land zoned for lots over 25,000 sq.ft.\n",
      "        - INDUS    proportion of non-retail business acres per town\n",
      "        - CHAS     Charles River dummy variable (= 1 if tract bounds river; 0 otherwise)\n",
      "        - NOX      nitric oxides concentration (parts per 10 million)\n",
      "        - RM       average number of rooms per dwelling\n",
      "        - AGE      proportion of owner-occupied units built prior to 1940\n",
      "        - DIS      weighted distances to five Boston employment centres\n",
      "        - RAD      index of accessibility to radial highways\n",
      "        - TAX      full-value property-tax rate per $10,000\n",
      "        - PTRATIO  pupil-teacher ratio by town\n",
      "        - B        1000(Bk - 0.63)^2 where Bk is the proportion of blacks by town\n",
      "        - LSTAT    % lower status of the population\n",
      "        - MEDV     Median value of owner-occupied homes in $1000's\n",
      "\n",
      "    :Missing Attribute Values: None\n",
      "\n",
      "    :Creator: Harrison, D. and Rubinfeld, D.L.\n",
      "\n",
      "This is a copy of UCI ML housing dataset.\n",
      "https://archive.ics.uci.edu/ml/machine-learning-databases/housing/\n",
      "\n",
      "\n",
      "This dataset was taken from the StatLib library which is maintained at Carnegie Mellon University.\n",
      "\n",
      "The Boston house-price data of Harrison, D. and Rubinfeld, D.L. 'Hedonic\n",
      "prices and the demand for clean air', J. Environ. Economics & Management,\n",
      "vol.5, 81-102, 1978.   Used in Belsley, Kuh & Welsch, 'Regression diagnostics\n",
      "...', Wiley, 1980.   N.B. Various transformations are used in the table on\n",
      "pages 244-261 of the latter.\n",
      "\n",
      "The Boston house-price data has been used in many machine learning papers that address regression\n",
      "problems.   \n",
      "     \n",
      ".. topic:: References\n",
      "\n",
      "   - Belsley, Kuh & Welsch, 'Regression diagnostics: Identifying Influential Data and Sources of Collinearity', Wiley, 1980. 244-261.\n",
      "   - Quinlan,R. (1993). Combining Instance-Based and Model-Based Learning. In Proceedings on the Tenth International Conference of Machine Learning, 236-243, University of Massachusetts, Amherst. Morgan Kaufmann.\n",
      "\n"
     ]
    }
   ],
   "source": [
    "print(dataset.DESCR)"
   ]
  },
  {
   "cell_type": "code",
   "execution_count": 33,
   "metadata": {
    "colab": {
     "base_uri": "https://localhost:8080/",
     "height": 203
    },
    "colab_type": "code",
    "id": "LkF-i2Gubct6",
    "outputId": "ff8c898a-27c5-4676-df30-4d80aece41e4"
   },
   "outputs": [
    {
     "data": {
      "text/html": [
       "<div>\n",
       "<style scoped>\n",
       "    .dataframe tbody tr th:only-of-type {\n",
       "        vertical-align: middle;\n",
       "    }\n",
       "\n",
       "    .dataframe tbody tr th {\n",
       "        vertical-align: top;\n",
       "    }\n",
       "\n",
       "    .dataframe thead th {\n",
       "        text-align: right;\n",
       "    }\n",
       "</style>\n",
       "<table border=\"1\" class=\"dataframe\">\n",
       "  <thead>\n",
       "    <tr style=\"text-align: right;\">\n",
       "      <th></th>\n",
       "      <th>CRIM</th>\n",
       "      <th>ZN</th>\n",
       "      <th>INDUS</th>\n",
       "      <th>CHAS</th>\n",
       "      <th>NOX</th>\n",
       "      <th>RM</th>\n",
       "      <th>AGE</th>\n",
       "      <th>DIS</th>\n",
       "      <th>RAD</th>\n",
       "      <th>TAX</th>\n",
       "      <th>PTRATIO</th>\n",
       "      <th>B</th>\n",
       "      <th>LSTAT</th>\n",
       "    </tr>\n",
       "  </thead>\n",
       "  <tbody>\n",
       "    <tr>\n",
       "      <th>0</th>\n",
       "      <td>0.00632</td>\n",
       "      <td>18.0</td>\n",
       "      <td>2.31</td>\n",
       "      <td>0.0</td>\n",
       "      <td>0.538</td>\n",
       "      <td>6.575</td>\n",
       "      <td>65.2</td>\n",
       "      <td>4.0900</td>\n",
       "      <td>1.0</td>\n",
       "      <td>296.0</td>\n",
       "      <td>15.3</td>\n",
       "      <td>396.90</td>\n",
       "      <td>4.98</td>\n",
       "    </tr>\n",
       "    <tr>\n",
       "      <th>1</th>\n",
       "      <td>0.02731</td>\n",
       "      <td>0.0</td>\n",
       "      <td>7.07</td>\n",
       "      <td>0.0</td>\n",
       "      <td>0.469</td>\n",
       "      <td>6.421</td>\n",
       "      <td>78.9</td>\n",
       "      <td>4.9671</td>\n",
       "      <td>2.0</td>\n",
       "      <td>242.0</td>\n",
       "      <td>17.8</td>\n",
       "      <td>396.90</td>\n",
       "      <td>9.14</td>\n",
       "    </tr>\n",
       "    <tr>\n",
       "      <th>2</th>\n",
       "      <td>0.02729</td>\n",
       "      <td>0.0</td>\n",
       "      <td>7.07</td>\n",
       "      <td>0.0</td>\n",
       "      <td>0.469</td>\n",
       "      <td>7.185</td>\n",
       "      <td>61.1</td>\n",
       "      <td>4.9671</td>\n",
       "      <td>2.0</td>\n",
       "      <td>242.0</td>\n",
       "      <td>17.8</td>\n",
       "      <td>392.83</td>\n",
       "      <td>4.03</td>\n",
       "    </tr>\n",
       "    <tr>\n",
       "      <th>3</th>\n",
       "      <td>0.03237</td>\n",
       "      <td>0.0</td>\n",
       "      <td>2.18</td>\n",
       "      <td>0.0</td>\n",
       "      <td>0.458</td>\n",
       "      <td>6.998</td>\n",
       "      <td>45.8</td>\n",
       "      <td>6.0622</td>\n",
       "      <td>3.0</td>\n",
       "      <td>222.0</td>\n",
       "      <td>18.7</td>\n",
       "      <td>394.63</td>\n",
       "      <td>2.94</td>\n",
       "    </tr>\n",
       "    <tr>\n",
       "      <th>4</th>\n",
       "      <td>0.06905</td>\n",
       "      <td>0.0</td>\n",
       "      <td>2.18</td>\n",
       "      <td>0.0</td>\n",
       "      <td>0.458</td>\n",
       "      <td>7.147</td>\n",
       "      <td>54.2</td>\n",
       "      <td>6.0622</td>\n",
       "      <td>3.0</td>\n",
       "      <td>222.0</td>\n",
       "      <td>18.7</td>\n",
       "      <td>396.90</td>\n",
       "      <td>5.33</td>\n",
       "    </tr>\n",
       "  </tbody>\n",
       "</table>\n",
       "</div>"
      ],
      "text/plain": [
       "      CRIM    ZN  INDUS  CHAS    NOX  ...  RAD    TAX  PTRATIO       B  LSTAT\n",
       "0  0.00632  18.0   2.31   0.0  0.538  ...  1.0  296.0     15.3  396.90   4.98\n",
       "1  0.02731   0.0   7.07   0.0  0.469  ...  2.0  242.0     17.8  396.90   9.14\n",
       "2  0.02729   0.0   7.07   0.0  0.469  ...  2.0  242.0     17.8  392.83   4.03\n",
       "3  0.03237   0.0   2.18   0.0  0.458  ...  3.0  222.0     18.7  394.63   2.94\n",
       "4  0.06905   0.0   2.18   0.0  0.458  ...  3.0  222.0     18.7  396.90   5.33\n",
       "\n",
       "[5 rows x 13 columns]"
      ]
     },
     "execution_count": 33,
     "metadata": {
      "tags": []
     },
     "output_type": "execute_result"
    }
   ],
   "source": [
    "df = pd.DataFrame(dataset.data, columns=dataset.feature_names)\n",
    "df.head()"
   ]
  },
  {
   "cell_type": "markdown",
   "metadata": {
    "colab_type": "text",
    "id": "94KuAUYObct8"
   },
   "source": [
    "We can see that the target value by the name MEDV is missing from the dataframe. It is present in dataset.target.\n",
    "Let's add that to the df."
   ]
  },
  {
   "cell_type": "code",
   "execution_count": 0,
   "metadata": {
    "colab": {},
    "colab_type": "code",
    "id": "Xzyw71rKbct8"
   },
   "outputs": [],
   "source": [
    "df['MEDV'] = dataset.target"
   ]
  },
  {
   "cell_type": "markdown",
   "metadata": {
    "colab_type": "text",
    "id": "JaZo0Cjgbct-"
   },
   "source": [
    "Are there any null values in the dataset?"
   ]
  },
  {
   "cell_type": "code",
   "execution_count": 35,
   "metadata": {
    "colab": {
     "base_uri": "https://localhost:8080/",
     "height": 274
    },
    "colab_type": "code",
    "id": "pogI_Oxwbct_",
    "outputId": "14704912-0f2c-47a0-bbec-4fab4d8797cd"
   },
   "outputs": [
    {
     "data": {
      "text/plain": [
       "CRIM       0\n",
       "ZN         0\n",
       "INDUS      0\n",
       "CHAS       0\n",
       "NOX        0\n",
       "RM         0\n",
       "AGE        0\n",
       "DIS        0\n",
       "RAD        0\n",
       "TAX        0\n",
       "PTRATIO    0\n",
       "B          0\n",
       "LSTAT      0\n",
       "MEDV       0\n",
       "dtype: int64"
      ]
     },
     "execution_count": 35,
     "metadata": {
      "tags": []
     },
     "output_type": "execute_result"
    }
   ],
   "source": [
    "df.isnull().sum()"
   ]
  },
  {
   "cell_type": "markdown",
   "metadata": {
    "colab_type": "text",
    "id": "MtEhLGisbcuA"
   },
   "source": [
    "Even though there are none, it's a good practice to check."
   ]
  },
  {
   "cell_type": "markdown",
   "metadata": {
    "colab_type": "text",
    "id": "KJeJAOaXbcuA"
   },
   "source": [
    "#### Exploratory Data Analysis"
   ]
  },
  {
   "cell_type": "markdown",
   "metadata": {
    "colab_type": "text",
    "id": "P_9C21cDbcuA"
   },
   "source": [
    "We here use distplot method from the seaborn library, which is another popular graphing library for Python."
   ]
  },
  {
   "cell_type": "code",
   "execution_count": 36,
   "metadata": {
    "colab": {
     "base_uri": "https://localhost:8080/",
     "height": 557
    },
    "colab_type": "code",
    "id": "HZReYjg8bcuB",
    "outputId": "db0a2a25-a229-4623-9a20-c360f79059f2"
   },
   "outputs": [
    {
     "data": {
      "image/png": "[encoded data removed]",
      "text/plain": [
       "<Figure size 864x648 with 1 Axes>"
      ]
     },
     "metadata": {
      "tags": []
     },
     "output_type": "display_data"
    }
   ],
   "source": [
    "sns.set(rc={'figure.figsize':(12, 9)})\n",
    "sns.distplot(df['MEDV'], bins=30)\n",
    "plt.show()"
   ]
  },
  {
   "cell_type": "markdown",
   "metadata": {
    "colab_type": "text",
    "id": "wyrv1OqrbcuC"
   },
   "source": [
    "We can see that it mostly normally distributed with a few outliers."
   ]
  },
  {
   "cell_type": "markdown",
   "metadata": {
    "colab_type": "text",
    "id": "pGxbbm4hbcuC"
   },
   "source": [
    "## Linear Regression - Assignment"
   ]
  },
  {
   "cell_type": "markdown",
   "metadata": {
    "colab_type": "text",
    "id": "gEqwpLlpbcuD"
   },
   "source": [
    "We'll work with the above dataset for the assignment below. Create a blank notebook for the assignment."
   ]
  },
  {
   "cell_type": "markdown",
   "metadata": {
    "colab_type": "text",
    "id": "mB8b9CeFbcuD"
   },
   "source": [
    "### Question 1"
   ]
  },
  {
   "cell_type": "markdown",
   "metadata": {
    "colab_type": "text",
    "id": "WsIr8mlrbcuE"
   },
   "source": [
    "1. Normalize the data using StandardScaler from sklearn. [0.5]\n",
    "2. Split the multivariate data into training/validation data (20% validation data) and plot train error and validation error as a function of the lambda regularizer. [1]\n",
    "3. What is the best lambda where the best fit occurs? Use this best lambda from here on out. [Note: You may be surprised by the best lambda here - this won't be the case for all datasets.] [1]\n",
    "\n",
    "It's best to perform training/validation splitting prior to rescaling. However, here it's fine to do these steps in either order. In your plot, please show data for lambda values between 0 and 100. You might find that the lambda value depends on your random seed. That's fine, just pick one and use that corresponding lambda. The cost function you use should be the modified cost function with L2 regularization [J(theta) function], however the plotted training and test cost should only include the MSE part (without regularization cost). Do not use RMSE. Do not scale Y."
   ]
  },
  {
   "cell_type": "markdown",
   "metadata": {
    "colab_type": "text",
    "id": "EQ6KBnbpbcuE"
   },
   "source": [
    "### Question 2"
   ]
  },
  {
   "cell_type": "markdown",
   "metadata": {
    "colab_type": "text",
    "id": "CeznulorbcuF"
   },
   "source": [
    "1. Derive the gradient of the $L_2$ regularized objective for Linear Regression, $\\frac{\\partial}{\\partial \\theta_j}J(\\theta)$. Show your work (either by using in-line equations like we do here, or taking a picture of your work, and emdedding it in the notebook). [1]"
   ]
  },
  {
   "cell_type": "markdown",
   "metadata": {
    "colab_type": "text",
    "id": "dqtcegWNbcuF"
   },
   "source": [
    "### Question 3"
   ]
  },
  {
   "cell_type": "markdown",
   "metadata": {
    "colab_type": "text",
    "id": "LcxGaS1mbcuF"
   },
   "source": [
    "1. Implement batch gradient descent for linear regression using a fixed learning rate $\\eta$ of 1e-2. [1.5]\n",
    "\n",
    "2. Run the gradient descent for a fixed number of epochs (based on convergence) and verify that the results closely approximate the matrix solution with the same lambda. [1]\n",
    "\n",
    "We'd like a plot of cost vs # epochs (for training data), until convergence. You can then check that the weights you get from gradient descent are close to those you get from the analytical solution. How close? Most will be within 20%."
   ]
  },
  {
   "cell_type": "markdown",
   "metadata": {
    "colab_type": "text",
    "id": "uZWf70gxbcuG"
   },
   "source": [
    "### Question 4"
   ]
  },
  {
   "cell_type": "markdown",
   "metadata": {
    "colab_type": "text",
    "id": "VE0M8T1zbcuG"
   },
   "source": [
    "1. Plot training error performance vs. number of epochs as a function of learning rate $\\eta$ for a range of values {1e-6, 1e-5, 1e-4, 1e-3, 1e-2, 1e-1} with each $\\eta$ being a different line. [1]\n",
    "\n",
    "For very low $\\eta$, gradient descent should be slow to converge.  For very high $\\eta$, the error might be very unstable (i.e., not decreasing on every epoch).\n",
    "\n",
    "You're asked to plot training error vs # of epochs, for different learning rates. Please plot graphs with 1000 iterations for each learning rate."
   ]
  },
  {
   "cell_type": "markdown",
   "metadata": {
    "colab_type": "text",
    "id": "CXQYiq-wbcuG"
   },
   "source": [
    "### Question 5"
   ]
  },
  {
   "cell_type": "markdown",
   "metadata": {
    "colab_type": "text",
    "id": "lbqZlUh6bcuH"
   },
   "source": [
    "Implement a mini-batch version with a batch_size constant B.  When B=1, it is stochastic gradient descent.  When B=#train data points, it is full-batch.  Anywhere in between is mini-batch.  \n",
    "\n",
    "1. Choose B=1, B=16, B=128, B=256, and B=#data points and plot training error as a function of \"# of gradient updates\" and also separately as a function of \"wall-clock time\" for each value of B. [2]\n",
    "\n",
    "2. All lines should be on the same plot. Which B leads to fastest convergence in terms of #gradient updates and in terms of \"wall-clock time\"? [1]\n",
    "\n",
    "There has been some questions as to whether it's best to draw random samples from the training set with or without replacement (ie is it best to guarantee that each training example is sampled once per epoch, or to randomly select a new mini-batch every time?) Computationally, it turns out there's faster convergence without replacement. You're asked to produce two graphs, each with 4 curves (1 per B value). The first graph plots training error vs # of gradient updates, and the second plots training error vs time taken. Please run batch gradient descent with learning rate=0.01, and no of iterations=20, and thus collect the data needed to plot the 2 graphs asked in the question. While it's not asked here, you may also plot a training error vs # of epochs. Each epoch represents a complete pass through the training set, and represents a good comparison point between approaches.\n",
    "\n",
    "To plot the graphs, you could: \n",
    "Split first, scale the data, then add the additional column that only contains 1\n",
    "Split random state is 0 and test size=0.2\n",
    "For gradient descent, we initialize the weights using w = np.random.randn(n, 1) with np.random.seed(42)"
   ]
  },
  {
   "cell_type": "markdown",
   "metadata": {
    "colab_type": "text",
    "id": "BUZYiueSbcuH"
   },
   "source": [
    "### Question 6"
   ]
  },
  {
   "cell_type": "markdown",
   "metadata": {
    "colab_type": "text",
    "id": "RWB-1inrbcuH"
   },
   "source": [
    "1. Switch to absolute error for loss but still use $L_2$ regularization. Derive the gradient for this case, $\\frac{\\partial}{\\partial \\theta_j}J(\\theta)$. [1.5]\n",
    "\n",
    "\n",
    "2. Tune $\\eta$ and B to obtain good performance (fast convergence to minimum error, but not noisy).  Is it easier to train with squared error or absolute error, why?  Show some plots that help you demonstrate this point and explain. [1]\n",
    "\n",
    "As the question states, please use a loss that includes absolute error and L2 regularization.\n",
    "\n",
    "To plot the graphs, you could: \n",
    "Split first, scale the data, then add the additional column that only contains 1\n",
    "Split random state is 0 and test size=0.2\n",
    "For gradient descent, we initialize the weights using w = np.random.randn(n, 1) with np.random.seed(42)"
   ]
  },
  {
   "cell_type": "markdown",
   "metadata": {
    "colab_type": "text",
    "id": "AvpZij1PbcuH"
   },
   "source": [
    "### Question 7 (Optional)"
   ]
  },
  {
   "cell_type": "markdown",
   "metadata": {
    "colab_type": "text",
    "id": "hFhVjOGmbcuI"
   },
   "source": [
    "1. Does the model perform better if polynomial features are added (Use sklearn.preprocessing.PolynomialFeatures to test it out).\n",
    "\n",
    "\n",
    "2. Does the optimal value of λ (regularization constant) change with this new set of features added."
   ]
  },
  {
   "cell_type": "markdown",
   "metadata": {
    "colab_type": "text",
    "id": "7rKZXBodwA5P"
   },
   "source": [
    "## References"
   ]
  },
  {
   "cell_type": "markdown",
   "metadata": {
    "colab_type": "text",
    "id": "PA-T9S4RwA5P"
   },
   "source": [
    "Linear Regression:\n",
    "1. https://sebastianraschka.com/faq/docs/closed-form-vs-gd.html\n",
    "\n",
    "Gradient Descent (images and equations):\n",
    "1. https://towardsdatascience.com/linear-regression-using-gradient-descent-97a6c8700931\n",
    "2. https://towardsdatascience.com/linear-regression-using-python-b136c91bf0a2\n",
    "\n",
    "Author: Parth Jaggi"
   ]
  }
 ],
 "metadata": {
  "colab": {
   "collapsed_sections": [],
   "name": "lab-4-1.ipynb",
   "provenance": []
  },
  "kernelspec": {
   "display_name": "Python 3",
   "language": "python",
   "name": "python3"
  },
  "language_info": {
   "codemirror_mode": {
    "name": "ipython",
    "version": 3
   },
   "file_extension": ".py",
   "mimetype": "text/x-python",
   "name": "python",
   "nbconvert_exporter": "python",
   "pygments_lexer": "ipython3",
   "version": "3.7.3"
  }
 },
 "nbformat": 4,
 "nbformat_minor": 1
}
